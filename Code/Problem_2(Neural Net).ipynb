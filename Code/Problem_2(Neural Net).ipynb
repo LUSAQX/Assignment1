{
 "cells": [
  {
   "cell_type": "code",
   "execution_count": 1,
   "metadata": {},
   "outputs": [],
   "source": [
    "import numpy as np\n",
    "import pandas as pd\n",
    "import matplotlib.pyplot as plt\n",
    "import csv\n",
    "import os\n",
    "from time import time\n",
    "import re\n",
    "\n",
    "from sklearn.feature_extraction.text import CountVectorizer\n",
    "from sklearn.feature_extraction.text import TfidfVectorizer\n",
    "from sklearn.model_selection import learning_curve\n",
    "import sklearn.model_selection\n",
    "from sklearn import preprocessing\n",
    "from sklearn.model_selection import StratifiedKFold\n",
    "from sklearn.model_selection import train_test_split\n",
    "from sklearn.model_selection import RandomizedSearchCV\n",
    "from sklearn.model_selection import GridSearchCV\n",
    "from sklearn import neighbors\n",
    "from sklearn.tree import DecisionTreeClassifier\n",
    "from sklearn.svm import (SVC, LinearSVC)\n",
    "from sklearn import pipeline\n",
    "from sklearn.kernel_approximation import (RBFSampler,Nystroem)\n",
    "import pickle\n",
    "from sklearn.ensemble import AdaBoostClassifier\n",
    "from sklearn.ensemble import GradientBoostingClassifier\n",
    "from sklearn.neural_network import MLPClassifier\n",
    "from imblearn.over_sampling import SMOTE \n",
    "from sklearn.preprocessing import StandardScaler\n",
    "from sklearn.metrics import f1_score,roc_auc_score, accuracy_score\n",
    "\n",
    "\n",
    "from sklearn import decomposition\n"
   ]
  },
  {
   "cell_type": "code",
   "execution_count": 5,
   "metadata": {
    "collapsed": true
   },
   "outputs": [],
   "source": [
    "def clean_text(text):\n",
    "    \"\"\"\n",
    "    Applies some pre-processing on the given text.\n",
    "\n",
    "    Steps :\n",
    "    - Removing HTML tags\n",
    "    - Removing punctuation\n",
    "    - Lowering text\n",
    "    \"\"\"\n",
    "    \n",
    "    # remove HTML tags\n",
    "    text = re.sub(r'<.*?>', '', text)\n",
    "    \n",
    "    # remove the characters [\\], ['] and [\"]\n",
    "    text = re.sub(r\"\\\\\", \"\", text)    \n",
    "    text = re.sub(r\"\\'\", \"\", text)    \n",
    "    text = re.sub(r\"\\\"\", \"\", text)    \n",
    "    \n",
    "    # convert text to lowercase\n",
    "    text = text.strip().lower()\n",
    "    \n",
    "    # replace punctuation characters with spaces\n",
    "    filters='!\"\\'#$%&()*+,-./:;<=>?@[\\\\]^_`{|}~\\t\\n'\n",
    "    translate_dict = dict((c, \" \") for c in filters)\n",
    "    translate_map = str.maketrans(translate_dict)\n",
    "    text = text.translate(translate_map)\n",
    "\n",
    "    return text\n",
    "\n",
    "def load_train_test_imdb_data(data_dir):\n",
    "    \"\"\"Loads the IMDB train/test datasets from a folder path.\n",
    "    Input:\n",
    "    data_dir: path to the \"aclImdb\" folder.\n",
    "    \n",
    "    Returns:\n",
    "    train/test datasets as pandas dataframes.\n",
    "    \"\"\"\n",
    "\n",
    "    data = {}\n",
    "    for split in [\"train\", \"test\"]:\n",
    "        data[split] = []\n",
    "        for sentiment in [\"neg\", \"pos\"]:\n",
    "            score = 1 if sentiment == \"pos\" else 0\n",
    "\n",
    "            path = os.path.join(data_dir, split, sentiment)\n",
    "            file_names = os.listdir(path)\n",
    "            for f_name in file_names:\n",
    "                with open(os.path.join(path, f_name), \"rb\") as f:\n",
    "                    review = f.read()\n",
    "                    data[split].append([review, score])\n",
    "\n",
    "    np.random.shuffle(data[\"train\"])        \n",
    "    data[\"train\"] = pd.DataFrame(data[\"train\"],\n",
    "                                 columns=['text', 'sentiment'])\n",
    "\n",
    "    np.random.shuffle(data[\"test\"])\n",
    "    data[\"test\"] = pd.DataFrame(data[\"test\"],\n",
    "                                columns=['text', 'sentiment'])\n",
    "\n",
    "    return data[\"train\"], data[\"test\"]\n",
    "\n",
    "def plot_learning_curve(estimator, title, X, y, scoring, ylim=None, cv=None,\n",
    "                        train_sizes=np.linspace(.1, 1.0, 5)):\n",
    "    \"\"\"\n",
    "    Generate a simple plot of the test and traning learning curve.\n",
    "\n",
    "    Parameters\n",
    "    ----------\n",
    "    estimator : object type that implements the \"fit\" and \"predict\" methods\n",
    "        An object of that type which is cloned for each validation.\n",
    "\n",
    "    title : string\n",
    "        Title for the chart.\n",
    "\n",
    "    X : array-like, shape (n_samples, n_features)\n",
    "        Training vector, where n_samples is the number of samples and\n",
    "        n_features is the number of features.\n",
    "\n",
    "    y : array-like, shape (n_samples) or (n_samples, n_features), optional\n",
    "        Target relative to X for classification or regression;\n",
    "        None for unsupervised learning.\n",
    "\n",
    "    ylim : tuple, shape (ymin, ymax), optional\n",
    "        Defines minimum and maximum yvalues plotted.\n",
    "\n",
    "    cv : integer, cross-validation generator, optional\n",
    "        If an integer is passed, it is the number of folds (defaults to 3).\n",
    "        Specific cross-validation objects can be passed, see\n",
    "        sklearn.cross_validation module for the list of possible objects\n",
    "    \"\"\"\n",
    "    \n",
    "    plt.figure()\n",
    "    train_sizes, train_scores, test_scores = learning_curve(\n",
    "        estimator, X, y, cv=5, n_jobs=1, train_sizes=train_sizes, scoring=scoring,error_score=np.nan)\n",
    "    train_scores_mean = np.mean(train_scores, axis=1)\n",
    "    train_scores_std = np.std(train_scores, axis=1)\n",
    "    test_scores_mean = np.mean(test_scores, axis=1)\n",
    "    test_scores_std = np.std(test_scores, axis=1)\n",
    "\n",
    "    plt.fill_between(train_sizes, train_scores_mean - train_scores_std,\n",
    "                     train_scores_mean + train_scores_std, alpha=0.1,\n",
    "                     color=\"r\")\n",
    "    plt.fill_between(train_sizes, test_scores_mean - test_scores_std,\n",
    "                     test_scores_mean + test_scores_std, alpha=0.1, color=\"g\")\n",
    "    plt.plot(train_sizes, train_scores_mean, 'o-', color=\"r\",\n",
    "             label=\"Training score\")\n",
    "    plt.plot(train_sizes, test_scores_mean, 'o-', color=\"g\",\n",
    "             label=\"Cross-validation score\")\n",
    "\n",
    "    plt.xlabel(\"Training examples\")\n",
    "    plt.ylabel(\"Score\")\n",
    "    plt.legend(loc=\"best\")\n",
    "    plt.grid(\"on\") \n",
    "    if ylim:\n",
    "        plt.ylim(ylim)\n",
    "    plt.title(title)\n",
    "\n",
    "# Utility function to report best scores\n",
    "def report(results, scoring,n_top=3):\n",
    "    if len(scoring)>1:\n",
    "        for s in range(len(scoring)):\n",
    "            for i in range(1, n_top + 1):\n",
    "                candidates = np.flatnonzero(results['rank_test_'+scoring[s]] == i)\n",
    "                for candidate in candidates:\n",
    "                    print(\"Model with rank: {0}\".format(i))\n",
    "                    print(\"Mean validation {0:}: {1:.3f} (std: {2:.3f})\".format(\n",
    "                          scoring[s],\n",
    "                          results['mean_test_'+scoring[s]][candidate],\n",
    "                          results['std_test_'+scoring[s]][candidate]))\n",
    "                    print(\"Parameters: {0}\".format(results['params'][candidate]))\n",
    "                    print(\"\")\n",
    "                    \n",
    "    else:\n",
    "        for i in range(1, n_top + 1):\n",
    "            candidates = np.flatnonzero(results['rank_test_score'] == i)\n",
    "            for candidate in candidates:\n",
    "                print(\"Model with rank: {0}\".format(i))\n",
    "                print(\"Mean validation {0:}: {1:.3f} (std: {2:.3f})\".format(\n",
    "                      scoring[0],\n",
    "                      results['mean_test_score'][candidate],\n",
    "                      results['std_test_score'][candidate]))\n",
    "                print(\"Parameters: {0}\".format(results['params'][candidate]))\n",
    "                print(\"\")"
   ]
  },
  {
   "cell_type": "code",
   "execution_count": 6,
   "metadata": {
    "collapsed": true
   },
   "outputs": [],
   "source": [
    "#Load in data\n",
    "trainset = pd.read_csv('trainset_p2.csv', encoding = \"ISO-8859-1\").iloc[:,1:]\n",
    "testset= pd.read_csv('testset_p2.csv', encoding = \"ISO-8859-1\").iloc[:,1:]"
   ]
  },
  {
   "cell_type": "code",
   "execution_count": 7,
   "metadata": {
    "collapsed": true
   },
   "outputs": [],
   "source": [
    "# Transform each text into a TF-IDF vector \n",
    "vectorizer = TfidfVectorizer(stop_words=\"english\",\n",
    "                             preprocessor=clean_text,\n",
    "                             ngram_range=(1, 2))\n",
    "vectorizer.fit(pd.concat([trainset['text'],testset['text']]))\n",
    "\n",
    "training_features = vectorizer.transform(trainset[\"text\"])    \n",
    "test_features = vectorizer.transform(testset[\"text\"])"
   ]
  },
  {
   "cell_type": "code",
   "execution_count": 5,
   "metadata": {
    "collapsed": true
   },
   "outputs": [],
   "source": [
    "#MLP\n",
    "n_iter_search = 3\n",
    "parameters = {'hidden_layer_sizes':[(i,) for i in np.linspace(5,50,num=10).astype(int)], \n",
    "              'activation': ['identity','logistic','tanh','relu'], 'solver':['lbfgs','sgd','adam'],\n",
    "              'alpha':np.linspace(0.00001,0.0002,num=20),'learning_rate':['constant','invscaling','adaptive'],\n",
    "              'learning_rate_init':np.linspace(0.00001,0.0002,num=20)}\n",
    "\n",
    "clf_mlp = RandomizedSearchCV(MLPClassifier(max_iter=50000), param_distributions=parameters,\n",
    "                                   n_iter=n_iter_search, scoring='accuracy', cv=3,refit='accuracy')"
   ]
  },
  {
   "cell_type": "code",
   "execution_count": 9,
   "metadata": {
    "scrolled": true
   },
   "outputs": [
    {
     "name": "stdout",
     "output_type": "stream",
     "text": [
      "Model with rank: 1\n",
      "Mean validation accuracy: 0.865 (std: 0.004)\n",
      "Parameters: {'learning_rate': 'invscaling', 'solver': 'lbfgs', 'hidden_layer_sizes': (45,), 'activation': 'identity', 'alpha': 2e-05, 'learning_rate_init': 0.00017}\n",
      "\n",
      "Model with rank: 2\n",
      "Mean validation accuracy: 0.847 (std: 0.027)\n",
      "Parameters: {'learning_rate': 'adaptive', 'solver': 'adam', 'hidden_layer_sizes': (5,), 'activation': 'relu', 'alpha': 5e-05, 'learning_rate_init': 0.0002}\n",
      "\n",
      "Model with rank: 3\n",
      "Mean validation accuracy: 0.500 (std: 0.000)\n",
      "Parameters: {'learning_rate': 'constant', 'solver': 'sgd', 'hidden_layer_sizes': (10,), 'activation': 'identity', 'alpha': 1e-05, 'learning_rate_init': 9e-05}\n",
      "\n"
     ]
    }
   ],
   "source": [
    "#mlp on SMOTE\n",
    "start = time()\n",
    "clf_mlp.fit(training_features, trainset[\"sentiment\"])\n",
    "print(\"Multi-layer Perceptron classifier on SMOTE took %.2f seconds for %d candidates parameter settings.\" % \\\n",
    "      ((time() - start), n_iter_search))\n",
    "report(clf_mlp.cv_results_,scoring=['accuracy'])"
   ]
  },
  {
   "cell_type": "code",
   "execution_count": 10,
   "metadata": {
    "scrolled": false
   },
   "outputs": [
    {
     "name": "stdout",
     "output_type": "stream",
     "text": [
      "MLPClassifier(activation='identity', alpha=2e-05, batch_size='auto',\n",
      "       beta_1=0.9, beta_2=0.999, early_stopping=False, epsilon=1e-08,\n",
      "       hidden_layer_sizes=(45,), learning_rate='invscaling',\n",
      "       learning_rate_init=0.00017, max_iter=5000, momentum=0.9,\n",
      "       n_iter_no_change=10, nesterovs_momentum=True, power_t=0.5,\n",
      "       random_state=None, shuffle=True, solver='lbfgs', tol=0.0001,\n",
      "       validation_fraction=0.1, verbose=False, warm_start=False)\n"
     ]
    },
    {
     "data": {
      "image/png": "[encoded data removed]",
      "text/plain": [
       "<matplotlib.figure.Figure at 0x17dadace978>"
      ]
     },
     "metadata": {},
     "output_type": "display_data"
    }
   ],
   "source": [
    "clf_mlp_optim = clf_mlp_optim.best_estimator_\n",
    "print(clf_mlp_optim)\n",
    "\n",
    "%matplotlib inline\n",
    "\n",
    "plot_learning_curve(clf_mlp_optim , \"MLP\",\n",
    "                    training_features, trainset[\"sentiment\"], scoring='accuracy',\n",
    "                    train_sizes=np.array(range(1,5))/5)\n",
    "\n",
    "# save the model to disk\n",
    "filename = r'.\\Problem_1_Model\\clf_mlp_optim.sav'\n",
    "pickle.dump(clf_mlp_optim, open(filename, 'wb'))"
   ]
  },
  {
   "cell_type": "code",
   "execution_count": 17,
   "metadata": {
    "collapsed": true
   },
   "outputs": [],
   "source": [
    "clf_performance = pd.read_csv('model_performance_p2.csv').iloc[:,1:]"
   ]
  },
  {
   "cell_type": "code",
   "execution_count": 18,
   "metadata": {},
   "outputs": [
    {
     "name": "stdout",
     "output_type": "stream",
     "text": [
      "The training time of mlp is 1041.928s\n"
     ]
    }
   ],
   "source": [
    "start = time()\n",
    "clf_mlp_optim.fit(training_features, trainset[\"sentiment\"])\n",
    "print('The training time of mlp is %.3fs'%(round(time()-start,3)))\n",
    "\n",
    "y_pred_train = clf_mlp_optim.predict(training_features)\n",
    "\n",
    "y_pred_test = clf_mlp_optim.predict(test_features)\n",
    "\n",
    "mlp_perf={'classifier':'mlp',\n",
    "           'trainset_accuracy':accuracy_score(trainset[\"sentiment\"],y_pred_train),\n",
    "           'testset_accuracy':accuracy_score(testset[\"sentiment\"],y_pred_test)\n",
    "          }\n",
    "\n",
    "clf_performance.loc[(clf_performance.index.max()+1)]=mlp_perf"
   ]
  },
  {
   "cell_type": "code",
   "execution_count": 21,
   "metadata": {},
   "outputs": [
    {
     "data": {
      "text/plain": [
       "36"
      ]
     },
     "execution_count": 21,
     "metadata": {},
     "output_type": "execute_result"
    }
   ],
   "source": [
    "clf_mlp_optim.n_iter_"
   ]
  }
 ],
 "metadata": {
  "kernelspec": {
   "display_name": "Python [conda env:py35]",
   "language": "python",
   "name": "conda-env-py35-py"
  },
  "language_info": {
   "codemirror_mode": {
    "name": "ipython",
    "version": 3
   },
   "file_extension": ".py",
   "mimetype": "text/x-python",
   "name": "python",
   "nbconvert_exporter": "python",
   "pygments_lexer": "ipython3",
   "version": "3.5.4"
  }
 },
 "nbformat": 4,
 "nbformat_minor": 2
}
