{
 "cells": [
  {
   "cell_type": "code",
   "execution_count": null,
   "metadata": {},
   "outputs": [],
   "source": [
    "import numpy as np\n",
    "import pandas as pd\n",
    "import matplotlib.pyplot as plt\n",
    "import csv\n",
    "import os\n",
    "from time import time\n",
    "import re\n",
    "\n",
    "from sklearn.feature_extraction.text import CountVectorizer\n",
    "from sklearn.feature_extraction.text import TfidfVectorizer\n",
    "from sklearn.model_selection import learning_curve\n",
    "import sklearn.model_selection\n",
    "from sklearn import preprocessing\n",
    "from sklearn.model_selection import StratifiedKFold\n",
    "from sklearn.model_selection import train_test_split\n",
    "from sklearn.model_selection import RandomizedSearchCV\n",
    "from sklearn.model_selection import GridSearchCV\n",
    "from sklearn import neighbors\n",
    "from sklearn.tree import DecisionTreeClassifier\n",
    "from sklearn.svm import (SVC, LinearSVC)\n",
    "from sklearn import pipeline\n",
    "from sklearn.kernel_approximation import (RBFSampler,Nystroem)\n",
    "import pickle\n",
    "from sklearn.ensemble import AdaBoostClassifier\n",
    "from sklearn.ensemble import GradientBoostingClassifier\n",
    "from sklearn.neural_network import MLPClassifier\n",
    "from imblearn.over_sampling import SMOTE \n",
    "from sklearn.preprocessing import StandardScaler\n",
    "from sklearn.metrics import f1_score,roc_auc_score, accuracy_score\n",
    "\n",
    "from sklearn import decomposition\n"
   ]
  },
  {
   "cell_type": "code",
   "execution_count": 2,
   "metadata": {
    "collapsed": true
   },
   "outputs": [],
   "source": [
    "def clean_text(text):\n",
    "    \"\"\"\n",
    "    Applies some pre-processing on the given text.\n",
    "\n",
    "    Steps :\n",
    "    - Removing HTML tags\n",
    "    - Removing punctuation\n",
    "    - Lowering text\n",
    "    \"\"\"\n",
    "    \n",
    "    # remove HTML tags\n",
    "    text = re.sub(r'<.*?>', '', text)\n",
    "    \n",
    "    # remove the characters [\\], ['] and [\"]\n",
    "    text = re.sub(r\"\\\\\", \"\", text)    \n",
    "    text = re.sub(r\"\\'\", \"\", text)    \n",
    "    text = re.sub(r\"\\\"\", \"\", text)    \n",
    "    \n",
    "    # convert text to lowercase\n",
    "    text = text.strip().lower()\n",
    "    \n",
    "    # replace punctuation characters with spaces\n",
    "    filters='!\"\\'#$%&()*+,-./:;<=>?@[\\\\]^_`{|}~\\t\\n'\n",
    "    translate_dict = dict((c, \" \") for c in filters)\n",
    "    translate_map = str.maketrans(translate_dict)\n",
    "    text = text.translate(translate_map)\n",
    "\n",
    "    return text\n",
    "\n",
    "def load_train_test_imdb_data(data_dir):\n",
    "    \"\"\"Loads the IMDB train/test datasets from a folder path.\n",
    "    Input:\n",
    "    data_dir: path to the \"aclImdb\" folder.\n",
    "    \n",
    "    Returns:\n",
    "    train/test datasets as pandas dataframes.\n",
    "    \"\"\"\n",
    "\n",
    "    data = {}\n",
    "    for split in [\"train\", \"test\"]:\n",
    "        data[split] = []\n",
    "        for sentiment in [\"neg\", \"pos\"]:\n",
    "            score = 1 if sentiment == \"pos\" else 0\n",
    "\n",
    "            path = os.path.join(data_dir, split, sentiment)\n",
    "            file_names = os.listdir(path)\n",
    "            for f_name in file_names:\n",
    "                with open(os.path.join(path, f_name), \"rb\") as f:\n",
    "                    review = f.read()\n",
    "                    data[split].append([review, score])\n",
    "\n",
    "    np.random.shuffle(data[\"train\"])        \n",
    "    data[\"train\"] = pd.DataFrame(data[\"train\"],\n",
    "                                 columns=['text', 'sentiment'])\n",
    "\n",
    "    np.random.shuffle(data[\"test\"])\n",
    "    data[\"test\"] = pd.DataFrame(data[\"test\"],\n",
    "                                columns=['text', 'sentiment'])\n",
    "\n",
    "    return data[\"train\"], data[\"test\"]"
   ]
  },
  {
   "cell_type": "code",
   "execution_count": 3,
   "metadata": {
    "collapsed": true
   },
   "outputs": [],
   "source": [
    "def plot_learning_curve(estimator, title, X, y, scoring, ylim=None, cv=None,\n",
    "                        train_sizes=np.linspace(.1, 1.0, 5)):\n",
    "    \"\"\"\n",
    "    Generate a simple plot of the test and traning learning curve.\n",
    "\n",
    "    Parameters\n",
    "    ----------\n",
    "    estimator : object type that implements the \"fit\" and \"predict\" methods\n",
    "        An object of that type which is cloned for each validation.\n",
    "\n",
    "    title : string\n",
    "        Title for the chart.\n",
    "\n",
    "    X : array-like, shape (n_samples, n_features)\n",
    "        Training vector, where n_samples is the number of samples and\n",
    "        n_features is the number of features.\n",
    "\n",
    "    y : array-like, shape (n_samples) or (n_samples, n_features), optional\n",
    "        Target relative to X for classification or regression;\n",
    "        None for unsupervised learning.\n",
    "\n",
    "    ylim : tuple, shape (ymin, ymax), optional\n",
    "        Defines minimum and maximum yvalues plotted.\n",
    "\n",
    "    cv : integer, cross-validation generator, optional\n",
    "        If an integer is passed, it is the number of folds (defaults to 3).\n",
    "        Specific cross-validation objects can be passed, see\n",
    "        sklearn.cross_validation module for the list of possible objects\n",
    "    \"\"\"\n",
    "    \n",
    "    plt.figure()\n",
    "    train_sizes, train_scores, test_scores = learning_curve(\n",
    "        estimator, X, y, cv=5, n_jobs=1, train_sizes=train_sizes, scoring=scoring,error_score=np.nan)\n",
    "    train_scores_mean = np.mean(train_scores, axis=1)\n",
    "    train_scores_std = np.std(train_scores, axis=1)\n",
    "    test_scores_mean = np.mean(test_scores, axis=1)\n",
    "    test_scores_std = np.std(test_scores, axis=1)\n",
    "\n",
    "    plt.fill_between(train_sizes, train_scores_mean - train_scores_std,\n",
    "                     train_scores_mean + train_scores_std, alpha=0.1,\n",
    "                     color=\"r\")\n",
    "    plt.fill_between(train_sizes, test_scores_mean - test_scores_std,\n",
    "                     test_scores_mean + test_scores_std, alpha=0.1, color=\"g\")\n",
    "    plt.plot(train_sizes, train_scores_mean, 'o-', color=\"r\",\n",
    "             label=\"Training score\")\n",
    "    plt.plot(train_sizes, test_scores_mean, 'o-', color=\"g\",\n",
    "             label=\"Cross-validation score\")\n",
    "\n",
    "    plt.xlabel(\"Training examples\")\n",
    "    plt.ylabel(\"Score\")\n",
    "    plt.legend(loc=\"best\")\n",
    "    plt.grid(\"on\") \n",
    "    if ylim:\n",
    "        plt.ylim(ylim)\n",
    "    plt.title(title)"
   ]
  },
  {
   "cell_type": "code",
   "execution_count": 4,
   "metadata": {
    "collapsed": true
   },
   "outputs": [],
   "source": [
    "# Utility function to report best scores\n",
    "def report(results, scoring,n_top=3):\n",
    "    if len(scoring)>1:\n",
    "        for s in range(len(scoring)):\n",
    "            for i in range(1, n_top + 1):\n",
    "                candidates = np.flatnonzero(results['rank_test_'+scoring[s]] == i)\n",
    "                for candidate in candidates:\n",
    "                    print(\"Model with rank: {0}\".format(i))\n",
    "                    print(\"Mean validation {0:}: {1:.3f} (std: {2:.3f})\".format(\n",
    "                          scoring[s],\n",
    "                          results['mean_test_'+scoring[s]][candidate],\n",
    "                          results['std_test_'+scoring[s]][candidate]))\n",
    "                    print(\"Parameters: {0}\".format(results['params'][candidate]))\n",
    "                    print(\"\")\n",
    "                    \n",
    "    else:\n",
    "        for i in range(1, n_top + 1):\n",
    "            candidates = np.flatnonzero(results['rank_test_score'] == i)\n",
    "            for candidate in candidates:\n",
    "                print(\"Model with rank: {0}\".format(i))\n",
    "                print(\"Mean validation {0:}: {1:.3f} (std: {2:.3f})\".format(\n",
    "                      scoring[0],\n",
    "                      results['mean_test_score'][candidate],\n",
    "                      results['std_test_score'][candidate]))\n",
    "                print(\"Parameters: {0}\".format(results['params'][candidate]))\n",
    "                print(\"\")"
   ]
  },
  {
   "cell_type": "code",
   "execution_count": null,
   "metadata": {
    "collapsed": true
   },
   "outputs": [],
   "source": [
    "#Data URL: http://ai.stanford.edu/~amaas/data/sentiment/\n",
    "train_data, test_data = load_train_test_imdb_data(\n",
    "    data_dir=\"aclImdb/\")\n",
    "\n",
    "train_data['text'] = [t.decode(\"utf-8\") for t in train_data['text']]\n",
    "test_data['text'] = [t.decode(\"utf-8\") for t in test_data['text']]"
   ]
  },
  {
   "cell_type": "code",
   "execution_count": null,
   "metadata": {
    "collapsed": true
   },
   "outputs": [],
   "source": [
    "train_data_1,train_data_2=train_test_split(train_data, test_size=0.4, stratify=train_data['sentiment'], \\\n",
    "                                             random_state=1)\n",
    "test_data_1,test_data_2=train_test_split(test_data, test_size=0.1, stratify=test_data['sentiment'], \\\n",
    "                                             random_state=2)"
   ]
  },
  {
   "cell_type": "code",
   "execution_count": null,
   "metadata": {
    "collapsed": true,
    "scrolled": true
   },
   "outputs": [],
   "source": [
    "trainset = train_data_2\n",
    "testset = test_data_2\n",
    "\n",
    "trainset.to_csv('trainset_p2.csv')\n",
    "testset.to_csv('testset_p2.csv')"
   ]
  },
  {
   "cell_type": "code",
   "execution_count": 5,
   "metadata": {
    "collapsed": true,
    "scrolled": true
   },
   "outputs": [],
   "source": [
    "#Load in data\n",
    "trainset = pd.read_csv('trainset_p2.csv', encoding = \"ISO-8859-1\").iloc[:,1:]\n",
    "testset= pd.read_csv('testset_p2.csv', encoding = \"ISO-8859-1\").iloc[:,1:]"
   ]
  },
  {
   "cell_type": "code",
   "execution_count": 6,
   "metadata": {
    "collapsed": true,
    "scrolled": true
   },
   "outputs": [],
   "source": [
    "# Transform each text into a TF-IDF vector \n",
    "vectorizer = TfidfVectorizer(stop_words=\"english\",\n",
    "                             preprocessor=clean_text,\n",
    "                             ngram_range=(1, 2))\n",
    "vectorizer.fit(pd.concat([trainset['text'],testset['text']]))\n",
    "\n",
    "training_features = vectorizer.transform(trainset[\"text\"])    \n",
    "test_features = vectorizer.transform(testset[\"text\"])"
   ]
  },
  {
   "cell_type": "code",
   "execution_count": 7,
   "metadata": {
    "collapsed": true
   },
   "outputs": [],
   "source": [
    "#knn\n",
    "n_iter_search = 3\n",
    "\n",
    "parameters = {'weights':['uniform', 'distance'], 'algorithm': ['auto', 'brute'], 'metric': ['cosine','l2']}\n",
    "\n",
    "clf_knn3 = RandomizedSearchCV(neighbors.KNeighborsClassifier(n_neighbors=3), param_distributions=parameters,\n",
    "                                   n_iter=n_iter_search, scoring='accuracy', cv=3,refit=True)\n",
    "\n",
    "clf_knn6 = RandomizedSearchCV(neighbors.KNeighborsClassifier(n_neighbors=6), param_distributions=parameters,\n",
    "                                   n_iter=n_iter_search, scoring='accuracy', cv=3,refit=True)"
   ]
  },
  {
   "cell_type": "code",
   "execution_count": 59,
   "metadata": {
    "scrolled": false
   },
   "outputs": [
    {
     "name": "stdout",
     "output_type": "stream",
     "text": [
      "clf_knn3 took 47.77 seconds for 3 candidates parameter settings.\n",
      "Model with rank: 1\n",
      "Mean validation accuracy: 0.751 (std: 0.011)\n",
      "Parameters: {'metric': 'l2', 'weights': 'distance', 'algorithm': 'brute'}\n",
      "\n",
      "Model with rank: 2\n",
      "Mean validation accuracy: 0.750 (std: 0.011)\n",
      "Parameters: {'metric': 'cosine', 'weights': 'uniform', 'algorithm': 'auto'}\n",
      "\n",
      "Model with rank: 2\n",
      "Mean validation accuracy: 0.750 (std: 0.011)\n",
      "Parameters: {'metric': 'cosine', 'weights': 'uniform', 'algorithm': 'brute'}\n",
      "\n"
     ]
    }
   ],
   "source": [
    "#knn3\n",
    "start = time()\n",
    "clf_knn3.fit(training_features,trainset[\"sentiment\"])\n",
    "print(\"clf_knn3 took %.2f seconds for %d candidates parameter settings.\" % ((time() - start), n_iter_search))\n",
    "report(clf_knn3.cv_results_,scoring=['accuracy'])"
   ]
  },
  {
   "cell_type": "code",
   "execution_count": 60,
   "metadata": {
    "scrolled": true
   },
   "outputs": [
    {
     "name": "stdout",
     "output_type": "stream",
     "text": [
      "KNeighborsClassifier(algorithm='brute', leaf_size=30, metric='l2',\n",
      "           metric_params=None, n_jobs=None, n_neighbors=3, p=2,\n",
      "           weights='distance')\n"
     ]
    },
    {
     "data": {
      "image/png": "[encoded data removed]",
      "text/plain": [
       "<matplotlib.figure.Figure at 0x11e8746d908>"
      ]
     },
     "metadata": {},
     "output_type": "display_data"
    }
   ],
   "source": [
    "clf_knn3_optim = clf_knn3.best_estimator_\n",
    "print(clf_knn3_optim)\n",
    "%matplotlib inline\n",
    "\n",
    "plot_learning_curve(clf_knn3_optim, \"knn3\",\n",
    "                    training_features,trainset[\"sentiment\"], scoring='accuracy',\n",
    "                    train_sizes=np.array(range(1,6))/5)\n",
    "\n",
    "# save the model to disk\n",
    "filename = r'.\\Problem_2_Model\\clf_knn3_optim.sav'\n",
    "pickle.dump(clf_knn3_optim, open(filename, 'wb'))"
   ]
  },
  {
   "cell_type": "code",
   "execution_count": 9,
   "metadata": {
    "collapsed": true
   },
   "outputs": [],
   "source": [
    "#create a performacne dataframe and record the performance on both trainset and testset\n",
    "clf_performance = pd.DataFrame(columns=['classifier','trainset_accuracy','testset_accuracy'])"
   ]
  },
  {
   "cell_type": "code",
   "execution_count": 10,
   "metadata": {},
   "outputs": [
    {
     "name": "stdout",
     "output_type": "stream",
     "text": [
      "The training time of mlp is 0.026s\n"
     ]
    }
   ],
   "source": [
    "#clf_knn3_optim = pickle.load(open(r'.\\Problem_2_Model\\clf_knn3_optim.sav','rb'))\n",
    "\n",
    "start = time()\n",
    "clf_knn3_optim.fit(training_features, trainset[\"sentiment\"])\n",
    "print('The training time of mlp is %.3fs'%(round(time()-start,3)))\n",
    "\n",
    "y_pred_train = clf_knn3_optim.predict(training_features)\n",
    "\n",
    "y_pred_test = clf_knn3_optim.predict(test_features)\n",
    "\n",
    "knn3_perf={'classifier':'knn3',\n",
    "           'trainset_accuracy':accuracy_score(trainset[\"sentiment\"],y_pred_train),\n",
    "           'testset_accuracy':accuracy_score(testset[\"sentiment\"],y_pred_test)\n",
    "          }\n",
    "\n",
    "clf_performance.loc[0]=knn3_perf"
   ]
  },
  {
   "cell_type": "code",
   "execution_count": 65,
   "metadata": {},
   "outputs": [
    {
     "name": "stdout",
     "output_type": "stream",
     "text": [
      "clf_knn6 took 56.91 seconds for 3 candidates parameter settings.\n",
      "Model with rank: 1\n",
      "Mean validation accuracy: 0.770 (std: 0.006)\n",
      "Parameters: {'metric': 'l2', 'weights': 'distance', 'algorithm': 'brute'}\n",
      "\n",
      "Model with rank: 2\n",
      "Mean validation accuracy: 0.758 (std: 0.004)\n",
      "Parameters: {'metric': 'l2', 'weights': 'uniform', 'algorithm': 'auto'}\n",
      "\n",
      "Model with rank: 2\n",
      "Mean validation accuracy: 0.758 (std: 0.004)\n",
      "Parameters: {'metric': 'l2', 'weights': 'uniform', 'algorithm': 'brute'}\n",
      "\n"
     ]
    }
   ],
   "source": [
    "#knn6\n",
    "start = time()\n",
    "clf_knn6.fit(training_features,trainset[\"sentiment\"])\n",
    "print(\"clf_knn6 took %.2f seconds for %d candidates parameter settings.\" % ((time() - start), n_iter_search))\n",
    "report(clf_knn6.cv_results_,scoring=['accuracy'])"
   ]
  },
  {
   "cell_type": "code",
   "execution_count": 66,
   "metadata": {},
   "outputs": [
    {
     "name": "stdout",
     "output_type": "stream",
     "text": [
      "KNeighborsClassifier(algorithm='brute', leaf_size=30, metric='l2',\n",
      "           metric_params=None, n_jobs=None, n_neighbors=6, p=2,\n",
      "           weights='distance')\n"
     ]
    },
    {
     "data": {
      "image/png": "[encoded data removed]",
      "text/plain": [
       "<matplotlib.figure.Figure at 0x11e8746de10>"
      ]
     },
     "metadata": {},
     "output_type": "display_data"
    }
   ],
   "source": [
    "clf_knn6_optim = clf_knn6.best_estimator_\n",
    "print(clf_knn6_optim)\n",
    "%matplotlib inline\n",
    "\n",
    "plot_learning_curve(clf_knn6_optim, \"knn6\",\n",
    "                    training_features,trainset[\"sentiment\"], scoring='accuracy',\n",
    "                    train_sizes=np.array(range(1,6))/5)\n",
    "\n",
    "# save the model to disk\n",
    "filename = r'.\\Problem_2_Model\\clf_knn6_optim.sav'\n",
    "pickle.dump(clf_knn6_optim, open(filename, 'wb'))"
   ]
  },
  {
   "cell_type": "code",
   "execution_count": 12,
   "metadata": {},
   "outputs": [
    {
     "name": "stdout",
     "output_type": "stream",
     "text": [
      "The training time of knn6 is 0.028s\n"
     ]
    }
   ],
   "source": [
    "#clf_knn6_optim = pickle.load(open(r'.\\Problem_2_Model\\clf_knn6_optim.sav','rb'))\n",
    "\n",
    "start = time()\n",
    "clf_knn6_optim.fit(training_features, trainset[\"sentiment\"])\n",
    "print('The training time of knn6 is %.3fs'%(round(time()-start,3)))\n",
    "\n",
    "y_pred_train = clf_knn6_optim.predict(training_features)\n",
    "\n",
    "y_pred_test = clf_knn6_optim.predict(test_features)\n",
    "\n",
    "knn6_perf={'classifier':'knn6',\n",
    "           'trainset_accuracy':accuracy_score(trainset[\"sentiment\"],y_pred_train),\n",
    "           'testset_accuracy':accuracy_score(testset[\"sentiment\"],y_pred_test)\n",
    "          }\n",
    "\n",
    "clf_performance.loc[(clf_performance.index.max()+1)]=knn6_perf"
   ]
  },
  {
   "cell_type": "code",
   "execution_count": 69,
   "metadata": {
    "collapsed": true
   },
   "outputs": [],
   "source": [
    "#decision tree\n",
    "parameters = {'splitter':['best', 'random'], 'max_depth': [None, 5, 7, 9], \n",
    "              'min_samples_split': np.linspace(2,10,num=5).astype(int),\n",
    "              'max_features': ['auto','log2',None]}\n",
    "\n",
    "clf_dt = RandomizedSearchCV(DecisionTreeClassifier(criterion='entropy'), param_distributions=parameters,\n",
    "                                   n_iter=n_iter_search, scoring='accuracy', cv=3,refit='accuracy')"
   ]
  },
  {
   "cell_type": "code",
   "execution_count": 70,
   "metadata": {
    "scrolled": true
   },
   "outputs": [
    {
     "name": "stdout",
     "output_type": "stream",
     "text": [
      "Decision tree took 9.01 seconds for 3 candidates parameter settings.\n",
      "Model with rank: 1\n",
      "Mean validation accuracy: 0.576 (std: 0.010)\n",
      "Parameters: {'max_features': 'log2', 'splitter': 'best', 'min_samples_split': 10, 'max_depth': None}\n",
      "\n",
      "Model with rank: 2\n",
      "Mean validation accuracy: 0.525 (std: 0.002)\n",
      "Parameters: {'max_features': 'auto', 'splitter': 'best', 'min_samples_split': 10, 'max_depth': 9}\n",
      "\n",
      "Model with rank: 3\n",
      "Mean validation accuracy: 0.501 (std: 0.001)\n",
      "Parameters: {'max_features': 'log2', 'splitter': 'random', 'min_samples_split': 4, 'max_depth': 7}\n",
      "\n"
     ]
    }
   ],
   "source": [
    "start = time()\n",
    "clf_dt.fit(training_features, trainset[\"sentiment\"])\n",
    "print(\"Decision tree took %.2f seconds for %d candidates parameter settings.\" % ((time() - start), n_iter_search))\n",
    "report(clf_dt.cv_results_,scoring=['accuracy'])"
   ]
  },
  {
   "cell_type": "code",
   "execution_count": 71,
   "metadata": {},
   "outputs": [
    {
     "name": "stdout",
     "output_type": "stream",
     "text": [
      "DecisionTreeClassifier(class_weight=None, criterion='entropy', max_depth=None,\n",
      "            max_features='log2', max_leaf_nodes=None,\n",
      "            min_impurity_decrease=0.0, min_impurity_split=None,\n",
      "            min_samples_leaf=1, min_samples_split=10,\n",
      "            min_weight_fraction_leaf=0.0, presort=False, random_state=None,\n",
      "            splitter='best')\n"
     ]
    },
    {
     "data": {
      "image/png": "[encoded data removed]",
      "text/plain": [
       "<matplotlib.figure.Figure at 0x11e85009780>"
      ]
     },
     "metadata": {},
     "output_type": "display_data"
    }
   ],
   "source": [
    "clf_dt_optim = clf_dt.best_estimator_\n",
    "print(clf_dt_optim)\n",
    "\n",
    "%matplotlib inline\n",
    "\n",
    "plot_learning_curve(clf_dt_optim , \"decision tree\",\n",
    "                    training_features, trainset[\"sentiment\"], scoring='accuracy',\n",
    "                    train_sizes=np.array(range(1,5))/5)\n",
    "\n",
    "# save the model to disk\n",
    "filename = r'.\\Problem_2_Model\\clf_dt_optim.sav'\n",
    "pickle.dump(clf_dt_optim, open(filename, 'wb'))"
   ]
  },
  {
   "cell_type": "code",
   "execution_count": 13,
   "metadata": {},
   "outputs": [
    {
     "name": "stdout",
     "output_type": "stream",
     "text": [
      "The training time of decision tree is 2.108s\n"
     ]
    }
   ],
   "source": [
    "clf_dt_optim = pickle.load(open(r'.\\Problem_2_Model\\clf_dt_optim.sav', 'rb'))\n",
    "\n",
    "start = time()\n",
    "clf_dt_optim.fit(training_features, trainset[\"sentiment\"])\n",
    "print('The training time of decision tree is %.3fs'%(round(time()-start,3)))\n",
    "\n",
    "y_pred_train = clf_dt_optim.predict(training_features)\n",
    "\n",
    "y_pred_test = clf_dt_optim.predict(test_features)\n",
    "\n",
    "dt_perf={'classifier':'dt',\n",
    "           'trainset_accuracy':accuracy_score(trainset[\"sentiment\"],y_pred_train),\n",
    "           'testset_accuracy':accuracy_score(testset[\"sentiment\"],y_pred_test)\n",
    "          }\n",
    "\n",
    "clf_performance.loc[(clf_performance.index.max()+1)]=dt_perf"
   ]
  },
  {
   "cell_type": "code",
   "execution_count": 17,
   "metadata": {
    "collapsed": true
   },
   "outputs": [],
   "source": [
    "#svm\n",
    "n_iter_search = 3\n",
    "\n",
    "parameters_lin = {'loss':['hinge','squared_hinge'], 'C':list(10. ** np.arange(-4, 6))}\n",
    "parameters_rbf = {'C':list(10. ** np.arange(-4, 6)), 'shrinking': [True, False], 'gamma':np.linspace(0.000001,0.0001,num=10)}\n",
    "\n",
    "\n",
    "\n",
    "clf_svclin = RandomizedSearchCV(LinearSVC(max_iter=500000), param_distributions=parameters_lin,\n",
    "                                   n_iter=n_iter_search, scoring='accuracy', cv=3,refit='accuracy')\n",
    "\n",
    "clf_svcrbf = RandomizedSearchCV(SVC(kernel='rbf',max_iter=500000), param_distributions=parameters_rbf,\n",
    "                                   n_iter=n_iter_search, scoring='accuracy', cv=3,refit='accuracy')"
   ]
  },
  {
   "cell_type": "code",
   "execution_count": 81,
   "metadata": {},
   "outputs": [
    {
     "name": "stdout",
     "output_type": "stream",
     "text": [
      "Linear kernel svc took 11.09 seconds for 3 candidates parameter settings.\n",
      "Model with rank: 1\n",
      "Mean validation accuracy: 0.878 (std: 0.004)\n",
      "Parameters: {'loss': 'squared_hinge', 'C': 10.0}\n",
      "\n",
      "Model with rank: 2\n",
      "Mean validation accuracy: 0.852 (std: 0.005)\n",
      "Parameters: {'loss': 'squared_hinge', 'C': 0.1}\n",
      "\n",
      "Model with rank: 3\n",
      "Mean validation accuracy: 0.792 (std: 0.003)\n",
      "Parameters: {'loss': 'hinge', 'C': 0.0001}\n",
      "\n"
     ]
    }
   ],
   "source": [
    "#linear kernel\n",
    "start = time()\n",
    "clf_svclin.fit(training_features, trainset[\"sentiment\"])\n",
    "print(\"Linear kernel svc took %.2f seconds for %d candidates parameter settings.\" % ((time() - start), n_iter_search))\n",
    "report(clf_svclin.cv_results_,scoring=['accuracy'])"
   ]
  },
  {
   "cell_type": "code",
   "execution_count": 82,
   "metadata": {},
   "outputs": [
    {
     "name": "stdout",
     "output_type": "stream",
     "text": [
      "LinearSVC(C=10.0, class_weight=None, dual=True, fit_intercept=True,\n",
      "     intercept_scaling=1, loss='squared_hinge', max_iter=5000,\n",
      "     multi_class='ovr', penalty='l2', random_state=None, tol=0.0001,\n",
      "     verbose=0)\n"
     ]
    },
    {
     "data": {
      "image/png": "[encoded data removed]",
      "text/plain": [
       "<matplotlib.figure.Figure at 0x11e86851860>"
      ]
     },
     "metadata": {},
     "output_type": "display_data"
    }
   ],
   "source": [
    "clf_svclin_optim = clf_svclin.best_estimator_\n",
    "print(clf_svclin_optim)\n",
    "\n",
    "%matplotlib inline\n",
    "\n",
    "plot_learning_curve(clf_svclin_optim , \"Linear kernel SVC\",\n",
    "                    training_features, trainset[\"sentiment\"], scoring='accuracy',\n",
    "                    train_sizes=np.array(range(1,5))/5)\n",
    "\n",
    "# save the model to disk\n",
    "filename = r'.\\Problem_2_Model\\clf_svclin_optim.sav'\n",
    "pickle.dump(clf_svclin_optim, open(filename, 'wb'))"
   ]
  },
  {
   "cell_type": "code",
   "execution_count": 14,
   "metadata": {},
   "outputs": [
    {
     "name": "stdout",
     "output_type": "stream",
     "text": [
      "The training time of SVC Linear kernel is 3.405s\n"
     ]
    }
   ],
   "source": [
    "clf_svclin_optim = pickle.load(open(r'.\\Problem_2_Model\\clf_svclin_optim.sav', 'rb'))\n",
    "\n",
    "start = time()\n",
    "clf_svclin_optim.fit(training_features, trainset[\"sentiment\"])\n",
    "print('The training time of SVC Linear kernel is %.3fs'%(round(time()-start,3)))\n",
    "\n",
    "y_pred_train = clf_svclin_optim.predict(training_features)\n",
    "\n",
    "y_pred_test = clf_svclin_optim.predict(test_features)\n",
    "\n",
    "svclin_perf={'classifier':'svclin',\n",
    "           'trainset_accuracy':accuracy_score(trainset[\"sentiment\"],y_pred_train),\n",
    "           'testset_accuracy':accuracy_score(testset[\"sentiment\"],y_pred_test)\n",
    "          }\n",
    "\n",
    "clf_performance.loc[(clf_performance.index.max()+1)]=svclin_perf"
   ]
  },
  {
   "cell_type": "code",
   "execution_count": 18,
   "metadata": {},
   "outputs": [
    {
     "name": "stdout",
     "output_type": "stream",
     "text": [
      "RBF kernel svc took 1752.57 seconds for 3 candidates parameter settings.\n",
      "Model with rank: 1\n",
      "Mean validation accuracy: 0.785 (std: 0.017)\n",
      "Parameters: {'C': 1000.0, 'shrinking': False, 'gamma': 1e-06}\n",
      "\n",
      "Model with rank: 2\n",
      "Mean validation accuracy: 0.631 (std: 0.023)\n",
      "Parameters: {'C': 0.0001, 'shrinking': True, 'gamma': 5.6000000000000006e-05}\n",
      "\n",
      "Model with rank: 3\n",
      "Mean validation accuracy: 0.631 (std: 0.023)\n",
      "Parameters: {'C': 0.01, 'shrinking': True, 'gamma': 7.800000000000001e-05}\n",
      "\n"
     ]
    }
   ],
   "source": [
    "#rbf kernel\n",
    "start = time()\n",
    "clf_svcrbf.fit(training_features, trainset[\"sentiment\"])\n",
    "print(\"RBF kernel svc took %.2f seconds for %d candidates parameter settings.\" % ((time() - start), n_iter_search))\n",
    "report(clf_svcrbf.cv_results_,scoring=['accuracy'])"
   ]
  },
  {
   "cell_type": "code",
   "execution_count": 19,
   "metadata": {},
   "outputs": [
    {
     "name": "stdout",
     "output_type": "stream",
     "text": [
      "SVC(C=1000.0, cache_size=200, class_weight=None, coef0=0.0,\n",
      "  decision_function_shape='ovr', degree=3, gamma=1e-06, kernel='rbf',\n",
      "  max_iter=500000, probability=False, random_state=None, shrinking=False,\n",
      "  tol=0.001, verbose=False)\n"
     ]
    },
    {
     "data": {
      "image/png": "[encoded data removed]",
      "text/plain": [
       "<matplotlib.figure.Figure at 0x2ea9cd23ef0>"
      ]
     },
     "metadata": {},
     "output_type": "display_data"
    }
   ],
   "source": [
    "clf_svcrbf_optim = clf_svcrbf.best_estimator_\n",
    "print(clf_svcrbf_optim)\n",
    "\n",
    "%matplotlib inline\n",
    "\n",
    "plot_learning_curve(clf_svcrbf_optim , \"RBF kernel SVC\",\n",
    "                    training_features, trainset[\"sentiment\"], scoring='accuracy',\n",
    "                    train_sizes=np.array(range(1,5))/5)\n",
    "\n",
    "# save the model to disk\n",
    "filename = r'.\\Problem_2_Model\\clf_svcrbf_optim.sav'\n",
    "pickle.dump(clf_svcrbf_optim, open(filename, 'wb'))"
   ]
  },
  {
   "cell_type": "code",
   "execution_count": 20,
   "metadata": {},
   "outputs": [
    {
     "name": "stdout",
     "output_type": "stream",
     "text": [
      "The training time of SVC RBF kernel is 168.296s\n"
     ]
    }
   ],
   "source": [
    "clf_svcrbf_optim = pickle.load(open(r'.\\Problem_2_Model\\clf_svcrbf_optim.sav', 'rb'))\n",
    "\n",
    "start = time()\n",
    "clf_svcrbf_optim.fit(training_features, trainset[\"sentiment\"])\n",
    "print('The training time of SVC RBF kernel is %.3fs'%(round(time()-start,3)))\n",
    "\n",
    "y_pred_train = clf_svcrbf_optim.predict(training_features)\n",
    "\n",
    "y_pred_test = clf_svcrbf_optim.predict(test_features)\n",
    "\n",
    "\n",
    "svcrbf_perf={'classifier':'svcrbf',\n",
    "           'trainset_accuracy':accuracy_score(trainset[\"sentiment\"],y_pred_train),\n",
    "           'testset_accuracy':accuracy_score(testset[\"sentiment\"],y_pred_test)\n",
    "          }\n",
    "\n",
    "clf_performance.loc[(clf_performance.index.max()+1)]=svcrbf_perf"
   ]
  },
  {
   "cell_type": "code",
   "execution_count": 8,
   "metadata": {
    "collapsed": true
   },
   "outputs": [],
   "source": [
    "#boosting\n",
    "parameters_Ada = {'n_estimators':np.linspace(25,250,num=10).astype(int), \n",
    "                  'learning_rate': np.linspace(0.1,1,num=19), 'algorithm':['SAMME','SAMME.R']}\n",
    "\n",
    "parameters_gradient = {'loss':['deviance','exponential'], 'learning_rate': np.linspace(0.1,1,num=19),\n",
    "                       'n_estimators':np.linspace(25,250,num=10).astype(int),'subsample':np.linspace(0.1,1,num=10),\n",
    "                       'criterion':['friedman_mse','mse','mae'],'min_samples_split': np.linspace(2,10,num=5).astype(int),\n",
    "                       'max_depth': [None, 5, 7, 9], 'max_features': ['auto','log2',None]}\n",
    "\n",
    "\n",
    "\n",
    "clf_adaboosting = RandomizedSearchCV(AdaBoostClassifier(), param_distributions=parameters_Ada,\n",
    "                                   n_iter=n_iter_search, scoring='accuracy', cv=3,refit='accuracy')\n",
    "\n",
    "clf_gradientboosting = \\\n",
    "                    RandomizedSearchCV(GradientBoostingClassifier(), param_distributions=parameters_gradient,\n",
    "                                   n_iter=n_iter_search, scoring='accuracy', cv=3,refit='accuracy')"
   ]
  },
  {
   "cell_type": "code",
   "execution_count": 92,
   "metadata": {},
   "outputs": [
    {
     "name": "stdout",
     "output_type": "stream",
     "text": [
      "Adaboosting classifier took 10097.05 seconds for 3 candidates parameter settings.\n",
      "Model with rank: 1\n",
      "Mean validation accuracy: 0.817 (std: 0.007)\n",
      "Parameters: {'learning_rate': 0.45000000000000007, 'n_estimators': 150, 'algorithm': 'SAMME.R'}\n",
      "\n",
      "Model with rank: 2\n",
      "Mean validation accuracy: 0.765 (std: 0.005)\n",
      "Parameters: {'learning_rate': 0.65, 'n_estimators': 225, 'algorithm': 'SAMME'}\n",
      "\n",
      "Model with rank: 3\n",
      "Mean validation accuracy: 0.758 (std: 0.005)\n",
      "Parameters: {'learning_rate': 0.65, 'n_estimators': 175, 'algorithm': 'SAMME'}\n",
      "\n"
     ]
    }
   ],
   "source": [
    "#Adaboost\n",
    "start = time()\n",
    "clf_adaboosting.fit(training_features, trainset[\"sentiment\"])\n",
    "print(\"Adaboosting classifier took %.2f seconds for %d candidates parameter settings.\" % ((time() - start), n_iter_search))\n",
    "report(clf_adaboosting.cv_results_,scoring=['accuracy'])"
   ]
  },
  {
   "cell_type": "code",
   "execution_count": 93,
   "metadata": {},
   "outputs": [
    {
     "name": "stdout",
     "output_type": "stream",
     "text": [
      "AdaBoostClassifier(algorithm='SAMME.R', base_estimator=None,\n",
      "          learning_rate=0.45000000000000007, n_estimators=150,\n",
      "          random_state=None)\n"
     ]
    },
    {
     "data": {
      "image/png": "[encoded data removed]",
      "text/plain": [
       "<matplotlib.figure.Figure at 0x11e869c0550>"
      ]
     },
     "metadata": {},
     "output_type": "display_data"
    }
   ],
   "source": [
    "#clf_adaboosting_optim = pickle.load(open(r'.\\Problem_2_Model\\clf_adaboosting_optim.sav', 'rb'))\n",
    "clf_adaboosting_optim = clf_adaboosting.best_estimator_\n",
    "print(clf_adaboosting_optim)\n",
    "\n",
    "%matplotlib inline\n",
    "\n",
    "plot_learning_curve(clf_adaboosting_optim , \"Adaboost\",\n",
    "                    training_features, trainset[\"sentiment\"], scoring='accuracy',\n",
    "                    train_sizes=np.array(range(1,5))/5)\n",
    "\n",
    "# save the model to disk\n",
    "filename = r'.\\Problem_2_Model\\clf_adaboosting_optim.sav'\n",
    "pickle.dump(clf_adaboosting_optim, open(filename, 'wb'))"
   ]
  },
  {
   "cell_type": "code",
   "execution_count": null,
   "metadata": {
    "scrolled": true
   },
   "outputs": [
    {
     "name": "stdout",
     "output_type": "stream",
     "text": [
      "The training time of Ada boost is 1537.712s\n"
     ]
    }
   ],
   "source": [
    "clf_adaboosting_optim = pickle.load(open(r'.\\Problem_2_Model\\clf_adaboosting_optim.sav', 'rb'))\n",
    "\n",
    "start = time()\n",
    "clf_adaboosting_optim.fit(training_features, trainset[\"sentiment\"])\n",
    "print('The training time of Ada boost is %.3fs'%(round(time()-start,3)))\n",
    "\n",
    "y_pred_train = clf_adaboosting_optim.predict(training_features)\n",
    "\n",
    "y_pred_test = clf_adaboosting_optim.predict(test_features)\n",
    "\n",
    "\n",
    "adaboost_perf={'classifier':'adaboost',\n",
    "           'trainset_accuracy':accuracy_score(trainset[\"sentiment\"],y_pred_train),\n",
    "           'testset_accuracy':accuracy_score(testset[\"sentiment\"],y_pred_test)\n",
    "          }\n",
    "\n",
    "clf_performance.loc[(clf_performance.index.max()+1)]=adaboost_perf"
   ]
  },
  {
   "cell_type": "code",
   "execution_count": null,
   "metadata": {},
   "outputs": [
    {
     "name": "stdout",
     "output_type": "stream",
     "text": [
      "Gradient boost classifier took 27062.80 seconds for 3 candidates parameter settings.\n",
      "Model with rank: 1\n",
      "Mean validation accuracy: 0.798 (std: 0.005)\n",
      "Parameters: {'min_samples_split': 8, 'learning_rate': 0.4, 'n_estimators': 150, 'subsample': 0.6, 'criterion': 'friedman_mse', 'max_features': 'auto', 'max_depth': None, 'loss': 'deviance'}\n",
      "\n",
      "Model with rank: 2\n",
      "Mean validation accuracy: 0.773 (std: 0.004)\n",
      "Parameters: {'min_samples_split': 8, 'learning_rate': 0.8, 'n_estimators': 250, 'subsample': 0.30000000000000004, 'criterion': 'mse', 'max_features': None, 'max_depth': None, 'loss': 'exponential'}\n",
      "\n",
      "Model with rank: 3\n",
      "Mean validation accuracy: 0.752 (std: 0.010)\n",
      "Parameters: {'min_samples_split': 8, 'learning_rate': 0.35, 'n_estimators': 50, 'subsample': 0.1, 'criterion': 'friedman_mse', 'max_features': 'auto', 'max_depth': 5, 'loss': 'exponential'}\n",
      "\n"
     ]
    }
   ],
   "source": [
    "#graident boost\n",
    "start = time()\n",
    "clf_gradientboosting.fit(training_features, trainset[\"sentiment\"])\n",
    "print(\"Gradient boost classifier took %.2f seconds for %d candidates parameter settings.\" % ((time() - start), n_iter_search))\n",
    "report(clf_gradientboosting.cv_results_,scoring=['accuracy'])"
   ]
  },
  {
   "cell_type": "code",
   "execution_count": null,
   "metadata": {},
   "outputs": [
    {
     "name": "stdout",
     "output_type": "stream",
     "text": [
      "GradientBoostingClassifier(criterion='friedman_mse', init=None,\n",
      "              learning_rate=0.4, loss='deviance', max_depth=None,\n",
      "              max_features='auto', max_leaf_nodes=None,\n",
      "              min_impurity_decrease=0.0, min_impurity_split=None,\n",
      "              min_samples_leaf=1, min_samples_split=8,\n",
      "              min_weight_fraction_leaf=0.0, n_estimators=150,\n",
      "              n_iter_no_change=2, presort='auto', random_state=None,\n",
      "              subsample=0.6, tol=0.0001, validation_fraction=0.1,\n",
      "              verbose=0, warm_start=False)\n"
     ]
    }
   ],
   "source": [
    "#clf_gradientboosting_optim = pickle.load(open(r'.\\Problem_2_Model\\clf_gradientboosting_optim.sav','rb'))\n",
    "clf_gradientboosting_optim = clf_gradientboosting.best_estimator_\n",
    "\n",
    "print(clf_gradientboosting_optim)\n",
    "\n",
    "%matplotlib inline\n",
    "\n",
    "plot_learning_curve(clf_gradientboosting_optim , \"gradientboosting\",\n",
    "                    training_features, trainset[\"sentiment\"], scoring='accuracy',\n",
    "                    train_sizes=np.array(range(1,5))/5)\n",
    "\n",
    "# save the model to disk\n",
    "filename = r'.\\Problem_2_Model\\clf_gradientboosting_optim.sav'\n",
    "pickle.dump(clf_gradientboosting_optim, open(filename, 'wb'))"
   ]
  },
  {
   "cell_type": "code",
   "execution_count": null,
   "metadata": {
    "collapsed": true
   },
   "outputs": [],
   "source": [
    "#clf_gradientboosting_optim = pickle.load(open('clf_gradientboosting_optim.sav', 'rb'))\n",
    "\n",
    "start = time()\n",
    "clf_gradientboosting_optim.fit(training_features, trainset[\"sentiment\"])\n",
    "print('The training time of gradient boosting is %.3fs'%(round(time()-start,3)))\n",
    "\n",
    "y_pred_train = clf_gradientboosting_optim.predict(training_features)\n",
    "\n",
    "y_pred_test = clf_gradientboosting_optim.predict(test_features)\n",
    "\n",
    "\n",
    "gradientboosting_perf={'classifier':'gradientboosting,\n",
    "           'trainset_accuracy':accuracy_score(trainset[\"sentiment\"],y_pred_train),\n",
    "           'testset_accuracy':accuracy_score(testset[\"sentiment\"],y_pred_test)\n",
    "          }\n",
    "\n",
    "clf_performance.loc[(clf_performance.index.max()+1)]=gradientboosting_perf"
   ]
  },
  {
   "cell_type": "code",
   "execution_count": null,
   "metadata": {
    "collapsed": true
   },
   "outputs": [],
   "source": [
    "clf_performance.to_csv('model_performance_p2.csv')"
   ]
  }
 ],
 "metadata": {
  "kernelspec": {
   "display_name": "Python [conda env:py35]",
   "language": "python",
   "name": "conda-env-py35-py"
  },
  "language_info": {
   "codemirror_mode": {
    "name": "ipython",
    "version": 3
   },
   "file_extension": ".py",
   "mimetype": "text/x-python",
   "name": "python",
   "nbconvert_exporter": "python",
   "pygments_lexer": "ipython3",
   "version": "3.5.4"
  }
 },
 "nbformat": 4,
 "nbformat_minor": 2
}
